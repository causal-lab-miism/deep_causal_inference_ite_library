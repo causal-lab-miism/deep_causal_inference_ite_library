{
 "cells": [
  {
   "cell_type": "markdown",
   "source": [
    " **Jupyter Notebook to work with the causal inference library with automatic hyperparameter optimization**  \n",
    "   >In this notebook we demonstrate how models from our library perform on different datasets.  "
   ],
   "metadata": {
    "collapsed": false,
    "pycharm": {
     "name": "#%% md\n"
    }
   }
  },
  {
   "cell_type": "code",
   "execution_count": null,
   "outputs": [],
   "source": [
    "The list of model names, datasets, and IPM types:"
   ],
   "metadata": {
    "collapsed": false,
    "pycharm": {
     "name": "#%%\n"
    }
   }
  },
  {
   "cell_type": "code",
   "execution_count": null,
   "outputs": [],
   "source": [
    "from main import *\n",
    "\n",
    "model_names = {\"TARnet\": TARnet, \"TModel\": TLearner, \"XLearner\": XLearner, \"TLearner\": TLearner,\n",
    "               \"CFRNet\": CFRNet, \"DragonNet\": DragonNet, \"DKLITE\": DKLITE,\n",
    "               \"GANITE\": GANITE, \"SLearner\": SLearner, \"RLearner\": RLearner, \"TEDVAE\": TEDVAE,\n",
    "               \"CEVAE\": CEVAE}\n",
    "\n",
    "datasets = {'ihdp_a', 'ihdp_b', 'acic', 'jobs'}\n",
    "ipm_list = {'mmdsq', 'wasserstein', 'weighted', None}"
   ],
   "metadata": {
    "collapsed": false,
    "pycharm": {
     "name": "#%%\n"
    }
   }
  },
  {
   "cell_type": "markdown",
   "source": [
    "# Run the Model"
   ],
   "metadata": {
    "collapsed": false,
    "pycharm": {
     "name": "#%% md\n"
    }
   }
  },
  {
   "cell_type": "code",
   "execution_count": null,
   "outputs": [],
   "source": [
    "# Initialitze the parameters of a chosen model. For example, in case of a TARnet:\n",
    "model_name = \"TARnet\"\n",
    "dataset_name = 'ihdp_a'\n",
    "ipm_type = None\n",
    "params = find_params(model_name, dataset_name)\n",
    "params['model_name'] = model_name\n",
    "params['dataset_name'] = dataset_name\n",
    "params['ipm_type'] = ipm_type\n",
    "# get a class corresponding to the chosen model\n",
    "model = model_names[model_name]"
   ],
   "metadata": {
    "collapsed": false,
    "pycharm": {
     "name": "#%%\n"
    }
   }
  },
  {
   "cell_type": "markdown",
   "source": [
    "After that the model can be created and hyperparameter search as well as PEHE estimation executed:"
   ],
   "metadata": {
    "collapsed": false,
    "pycharm": {
     "name": "#%% md\n"
    }
   }
  },
  {
   "cell_type": "code",
   "execution_count": null,
   "outputs": [],
   "source": [
    "created_model = model(params)\n",
    "pehe_list = created_model.evaluate_performance()\n",
    "m, h = mean_confidence_interval(pehe_list, confidence=0.95)\n",
    "print(f'mean: {m} | std test: {h}')"
   ],
   "metadata": {
    "collapsed": false,
    "pycharm": {
     "name": "#%%\n"
    }
   }
  }
 ],
 "metadata": {
  "kernelspec": {
   "display_name": "Python 3 (ipykernel)",
   "language": "python",
   "name": "python3"
  },
  "language_info": {
   "codemirror_mode": {
    "name": "ipython",
    "version": 3
   },
   "file_extension": ".py",
   "mimetype": "text/x-python",
   "name": "python",
   "nbconvert_exporter": "python",
   "pygments_lexer": "ipython3",
   "version": "3.9.0"
  }
 },
 "nbformat": 4,
 "nbformat_minor": 1
}