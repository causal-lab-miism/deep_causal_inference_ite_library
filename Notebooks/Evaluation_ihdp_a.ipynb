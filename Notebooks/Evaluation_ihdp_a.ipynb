{
 "cells": [
  {
   "cell_type": "markdown",
   "metadata": {
    "collapsed": true
   },
   "source": [
    " **Jupyter Notebook to work with the causal inference library with automatic hyperparameter optimization**  \n",
    "   >In this notebook we demonstrate how different models from our library perform on ihdp_a dataset.  "
   ]
  },
  {
   "cell_type": "markdown",
   "metadata": {
    "pycharm": {
     "name": "#%%\n"
    }
   },
   "source": [
    "The list of model names, datasets, and IPM types:"
   ]
  },
  {
   "cell_type": "code",
   "execution_count": 6,
   "metadata": {},
   "outputs": [],
   "source": [
    "from main import *\n",
    "\n",
    "model_names = {\"TARnet\": TARnetModel}\n",
    "\n",
    "datasets = {'ihdp_a', 'ihdp_b', 'jobs'}\n",
    "ipm_list = {'mmdsq', 'wasserstein', 'weighted', None}\n",
    "dataset_name = \"jobs\""
   ]
  },
  {
   "cell_type": "markdown",
   "metadata": {},
   "source": [
    "# TARNet"
   ]
  },
  {
   "cell_type": "markdown",
   "metadata": {},
   "source": [
    "Next, initialitze the parameters of a chosen model. For example, in case of a TARnet:"
   ]
  },
  {
   "cell_type": "code",
   "execution_count": 7,
   "metadata": {},
   "outputs": [
    {
     "ename": "KeyError",
     "evalue": "'TARnet'",
     "output_type": "error",
     "traceback": [
      "\u001b[1;31m---------------------------------------------------------------------------\u001b[0m",
      "\u001b[1;31mKeyError\u001b[0m                                  Traceback (most recent call last)",
      "\u001b[1;32m~\\AppData\\Local\\Temp/ipykernel_45680/4285972034.py\u001b[0m in \u001b[0;36m<module>\u001b[1;34m\u001b[0m\n\u001b[0;32m      1\u001b[0m \u001b[0mmodel_name\u001b[0m \u001b[1;33m=\u001b[0m \u001b[1;34m\"TARnet\"\u001b[0m\u001b[1;33m\u001b[0m\u001b[1;33m\u001b[0m\u001b[0m\n\u001b[1;32m----> 2\u001b[1;33m \u001b[0mparams\u001b[0m \u001b[1;33m=\u001b[0m \u001b[0mfind_params\u001b[0m\u001b[1;33m(\u001b[0m\u001b[0mmodel_name\u001b[0m\u001b[1;33m,\u001b[0m \u001b[0mdataset_name\u001b[0m\u001b[1;33m)\u001b[0m\u001b[1;33m\u001b[0m\u001b[1;33m\u001b[0m\u001b[0m\n\u001b[0m\u001b[0;32m      3\u001b[0m \u001b[1;31m# get a class corresponding to the chosen model\u001b[0m\u001b[1;33m\u001b[0m\u001b[1;33m\u001b[0m\u001b[0m\n\u001b[0;32m      4\u001b[0m \u001b[0mmodel\u001b[0m \u001b[1;33m=\u001b[0m \u001b[0mmodel_names\u001b[0m\u001b[1;33m[\u001b[0m\u001b[0mmodel_name\u001b[0m\u001b[1;33m]\u001b[0m\u001b[1;33m\u001b[0m\u001b[1;33m\u001b[0m\u001b[0m\n",
      "\u001b[1;32m~\\Dropbox\\Studies\\PhD\\CausalInference\\deep_ite_library\\hyperparameters.py\u001b[0m in \u001b[0;36mfind_params\u001b[1;34m(model_name, dataset_name)\u001b[0m\n\u001b[0;32m    331\u001b[0m     params = {'TARnet': params_TARnet, 'CEVAE': params_CEVAE, 'TEDVAE': params_TEDVAE, 'DKLITE': params_DKLITE, 'DragonNet': params_DragonNet,\n\u001b[0;32m    332\u001b[0m               \u001b[1;34m'TLearner'\u001b[0m\u001b[1;33m:\u001b[0m \u001b[0mparams_TLearner\u001b[0m\u001b[1;33m,\u001b[0m \u001b[1;34m'SLearner'\u001b[0m\u001b[1;33m:\u001b[0m \u001b[0mparams_SLearner\u001b[0m\u001b[1;33m,\u001b[0m \u001b[1;34m'RLearner'\u001b[0m\u001b[1;33m:\u001b[0m \u001b[0mparams_RLearner\u001b[0m\u001b[1;33m,\u001b[0m \u001b[1;34m'XLearner'\u001b[0m\u001b[1;33m:\u001b[0m \u001b[0mparams_XLearner\u001b[0m\u001b[1;33m,\u001b[0m\u001b[1;33m\u001b[0m\u001b[1;33m\u001b[0m\u001b[0m\n\u001b[1;32m--> 333\u001b[1;33m               'CFRNet': params_CFRNet, 'GANITE': params_GANITE, 'BVNICE': params_BVNICE}\n\u001b[0m\u001b[0;32m    334\u001b[0m \u001b[1;33m\u001b[0m\u001b[0m\n\u001b[0;32m    335\u001b[0m     \u001b[1;32mreturn\u001b[0m \u001b[0mparams\u001b[0m\u001b[1;33m[\u001b[0m\u001b[0mmodel_name\u001b[0m\u001b[1;33m]\u001b[0m\u001b[1;33m[\u001b[0m\u001b[0mdataset_name\u001b[0m\u001b[1;33m]\u001b[0m\u001b[1;33m\u001b[0m\u001b[1;33m\u001b[0m\u001b[0m\n",
      "\u001b[1;31mKeyError\u001b[0m: 'TARnet'"
     ]
    }
   ],
   "source": [
    "model_name = \"TARnet\"\n",
    "params = find_params(model_name, dataset_name)\n",
    "# get a class corresponding to the chosen model\n",
    "model = model_names[model_name]"
   ]
  },
  {
   "cell_type": "markdown",
   "metadata": {},
   "source": [
    "After that the model can be created and hyperparameter search as well as PEHE estimation executed:"
   ]
  },
  {
   "cell_type": "code",
   "execution_count": null,
   "metadata": {},
   "outputs": [],
   "source": [
    "tarnet = model(params)\n",
    "pehe_list = tarnet.evaluate_performance()\n",
    "m, h = mean_confidence_interval(pehe_list, confidence=0.95)\n",
    "print(f'mean PEHE test: {m} | std PEHE test: {h}')"
   ]
  },
  {
   "cell_type": "markdown",
   "metadata": {},
   "source": [
    "# TLearner"
   ]
  },
  {
   "cell_type": "code",
   "execution_count": null,
   "metadata": {},
   "outputs": [],
   "source": [
    "model_name = \"TLearner\"\n",
    "params = find_params(model_name, dataset_name)\n",
    "# get a class corresponding to the chosen model\n",
    "model = model_names[model_name]\n",
    "tlearner = model(params)\n",
    "pehe_list = tlearner.evaluate_performance()\n",
    "m, h = mean_confidence_interval(pehe_list, confidence=0.95)\n",
    "print(f'mean PEHE test: {m} | std PEHE test: {h}')"
   ]
  },
  {
   "cell_type": "code",
   "execution_count": null,
   "metadata": {},
   "outputs": [],
   "source": [
    "params"
   ]
  },
  {
   "cell_type": "code",
   "execution_count": null,
   "metadata": {},
   "outputs": [],
   "source": [
    "ROOT_DIR = os.path.dirname(os.path.abspath(\"main.py\"))"
   ]
  },
  {
   "cell_type": "code",
   "execution_count": null,
   "metadata": {},
   "outputs": [],
   "source": [
    "ROOT_DIR"
   ]
  },
  {
   "cell_type": "code",
   "execution_count": null,
   "metadata": {},
   "outputs": [],
   "source": [
    "d = os.getcwd()"
   ]
  },
  {
   "cell_type": "code",
   "execution_count": null,
   "metadata": {},
   "outputs": [],
   "source": [
    "import os.path\n",
    "\n",
    "os.path.abspath(os.pardir)"
   ]
  },
  {
   "cell_type": "code",
   "execution_count": null,
   "metadata": {},
   "outputs": [],
   "source": [
    "ROOT_DIR = os.path.abspath(os.pardir)"
   ]
  },
  {
   "cell_type": "code",
   "execution_count": null,
   "metadata": {},
   "outputs": [],
   "source": [
    "ROOT_DIR"
   ]
  },
  {
   "cell_type": "code",
   "execution_count": null,
   "metadata": {},
   "outputs": [],
   "source": [
    "os.path.join(ROOT_DIR, 'Datasets/IHDP_a')"
   ]
  },
  {
   "cell_type": "code",
   "execution_count": null,
   "metadata": {},
   "outputs": [],
   "source": [
    "os.path.join(ROOT_DIR, 'Datasets', 'IHDP_a')"
   ]
  },
  {
   "cell_type": "code",
   "execution_count": null,
   "metadata": {},
   "outputs": [],
   "source": []
  }
 ],
 "metadata": {
  "kernelspec": {
   "display_name": "Python 3 (ipykernel)",
   "language": "python",
   "name": "python3"
  },
  "language_info": {
   "codemirror_mode": {
    "name": "ipython",
    "version": 3
   },
   "file_extension": ".py",
   "mimetype": "text/x-python",
   "name": "python",
   "nbconvert_exporter": "python",
   "pygments_lexer": "ipython3",
   "version": "3.9.7"
  }
 },
 "nbformat": 4,
 "nbformat_minor": 1
}
